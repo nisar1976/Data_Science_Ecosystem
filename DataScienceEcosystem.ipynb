{
 "cells": [
  {
   "cell_type": "markdown",
   "id": "205e6551",
   "metadata": {},
   "source": [
    "# Data Science Tools and Ecosystem"
   ]
  },
  {
   "cell_type": "markdown",
   "id": "00b92319",
   "metadata": {},
   "source": [
    "## Introduction\n",
    "\n",
    "Welcome to the Data Science Tools and Ecosystem notebook. \n",
    "In this notebook, we provide a summary of the Data Science Tools and Ecosystem."
   ]
  },
  {
   "cell_type": "markdown",
   "id": "bf3d92ea",
   "metadata": {},
   "source": [
    "## Objectives:\n",
    "\n",
    "- List popular languages for Data Science.\n",
    "- Introduce commonly used Data Science libraries.\n",
    "- Provide example of evaluating arithmetic expressions in Python.\n",
    "- Demonstrate a simple conversion from minutes to hours.\n",
    "- Familiarize with key Data Science tools and environments."
   ]
  },
  {
   "cell_type": "markdown",
   "id": "c35d660c",
   "metadata": {},
   "source": [
    "## Data Science Languages\n",
    "\n",
    "Some of the popular languages that Data Scientists use are:\n",
    "\n",
    "1. Python\n",
    "2. R\n",
    "3. SQL\n",
    "4. Java (for Big Data processing)\n",
    "5. SAS (Statistical Analysis System)\n",
    "6. MATLAB\n",
    "7. Scala (especially for Apache Spark)\n",
    "8. Julia (emerging as a powerful tool for numerical computing)\n",
    "9. Ruby (useful for certain data manipulation tasks)\n",
    "10. C++ (utilized in performance-critical applications)\n",
    "\n",
    "This list covers a wide range of languages commonly used in data science for various purposes. "
   ]
  },
  {
   "cell_type": "markdown",
   "id": "c754ef3f",
   "metadata": {},
   "source": [
    "## Data Science Libraries\n",
    "\n",
    "Some of the commonly used libraries used by Data Scientists include:\n",
    "\n",
    "1. NumPy\n",
    "2. Pandas\n",
    "3. Matplotlib\n",
    "4. Seaborn (for data visualization)\n",
    "5. SciKit-Learn (for machine learning algorithms)\n",
    "6. TensorFlow (for deep learning)\n",
    "7. Keras (high-level neural networks API)\n",
    "8. PyTorch (open source machine learning library)\n",
    "9. NLTK (Natural Language Toolkit for text processing)\n",
    "10. Statsmodels (for statistical modeling)\n",
    "\n",
    "This list comprises a selection of widely used libraries in the data science field."
   ]
  },
  {
   "cell_type": "markdown",
   "id": "2f4c3aae",
   "metadata": {},
   "source": [
    "## Data Science Tools\n",
    "\n",
    "| Data Science Tools           |\n",
    "|------------------------------|\n",
    "| Jupyter Notebook             |\n",
    "| RStudio                      |\n",
    "| Visual Studio Code (with extensions for data science) |\n",
    "\n",
    "This table lists three commonly used open-source development environment tools in the field of data science. "
   ]
  },
  {
   "cell_type": "markdown",
   "id": "a584b714",
   "metadata": {},
   "source": [
    "### Arithmetic Expression Examples\n",
    "\n",
    "Listed below are some instances of computing arithmetic expressions in Python:"
   ]
  },
  {
   "cell_type": "code",
   "execution_count": 5,
   "id": "d6cf7aec",
   "metadata": {},
   "outputs": [
    {
     "data": {
      "text/plain": [
       "17"
      ]
     },
     "execution_count": 5,
     "metadata": {},
     "output_type": "execute_result"
    }
   ],
   "source": [
    "# Simple arithmetic expression to multiply then add integers.\n",
    "\n",
    "result = (3 * 4) + 5\n",
    "result"
   ]
  },
  {
   "cell_type": "code",
   "execution_count": 6,
   "id": "5450bbcd",
   "metadata": {},
   "outputs": [
    {
     "data": {
      "text/plain": [
       "3.3333333333333335"
      ]
     },
     "execution_count": 6,
     "metadata": {},
     "output_type": "execute_result"
    }
   ],
   "source": [
    "# This will convert 200 minutes to hours by dividing by 60.\n",
    "\n",
    "hrs = 200 / 60\n",
    "hrs"
   ]
  },
  {
   "cell_type": "markdown",
   "id": "20dbdc29",
   "metadata": {},
   "source": [
    "## Author\n",
    "\n",
    "Nisar Khan Khattak"
   ]
  },
  {
   "cell_type": "code",
   "execution_count": null,
   "id": "ae201bb7",
   "metadata": {},
   "outputs": [],
   "source": []
  }
 ],
 "metadata": {
  "kernelspec": {
   "display_name": "Python 3 (ipykernel)",
   "language": "python",
   "name": "python3"
  },
  "language_info": {
   "codemirror_mode": {
    "name": "ipython",
    "version": 3
   },
   "file_extension": ".py",
   "mimetype": "text/x-python",
   "name": "python",
   "nbconvert_exporter": "python",
   "pygments_lexer": "ipython3",
   "version": "3.9.7"
  }
 },
 "nbformat": 4,
 "nbformat_minor": 5
}
